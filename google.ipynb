{
 "nbformat": 4,
 "nbformat_minor": 0,
 "metadata": {
  "kernelspec": {
   "display_name": "Python 3",
   "language": "python",
   "name": "python3"
  },
  "language_info": {
   "codemirror_mode": {
    "name": "ipython",
    "version": 2
   },
   "file_extension": ".py",
   "mimetype": "text/x-python",
   "name": "python",
   "nbconvert_exporter": "python",
   "pygments_lexer": "ipython2",
   "version": "2.7.6"
  },
  "colab": {
   "name": "google.ipynb",
   "provenance": [],
   "toc_visible": true
  },
  "pycharm": {
   "stem_cell": {
    "cell_type": "raw",
    "source": [],
    "metadata": {
     "collapsed": false
    }
   }
  }
 },
 "cells": [
  {
   "cell_type": "code",
   "metadata": {
    "id": "zuBOz3VV0Vn8",
    "colab_type": "code",
    "colab": {}
   },
   "source": [
    "!git clone https://github.com/ZGCTroy/Domain_Adaptation.git"
   ],
   "execution_count": 0,
   "outputs": []
  },
  {
   "cell_type": "code",
   "metadata": {
    "id": "PEu4uxeL1HzU",
    "colab_type": "code",
    "colab": {}
   },
   "source": [
    "import os\n",
    "os.chdir('/content/Domain_Adaptation')\n",
    "gpu_info = !nvidia-smi\n",
    "gpu_info = '\\n'.join(gpu_info)\n",
    "if gpu_info.find('failed') >= 0:\n",
    "  print('Select the Runtime → \"Change runtime type\" menu to enable a GPU accelerator, ')\n",
    "  print('and then re-execute this cell.')\n",
    "else:\n",
    "  print(gpu_info)"
   ],
   "execution_count": 0,
   "outputs": []
  },
  {
   "cell_type": "code",
   "metadata": {
    "id": "F-Y1Rs6D1VMd",
    "colab_type": "code",
    "colab": {}
   },
   "source": [
    "!git fetch --all\n",
    "!git reset --hard origin/master\n",
    "!git pull"
   ],
   "execution_count": 0,
   "outputs": []
  },
  {
   "cell_type": "code",
   "metadata": {
    "id": "IYiYXMie3Qhw",
    "colab_type": "code",
    "colab": {}
   },
   "source": [
    "from google.colab import drive\n",
    "drive.mount('/content/drive')"
   ],
   "execution_count": 0,
   "outputs": []
  },
  {
   "cell_type": "code",
   "metadata": {
    "id": "gAFtKX-m4f6E",
    "colab_type": "code",
    "colab": {
     "base_uri": "https://localhost:8080/",
     "height": 68
    },
    "outputId": "0b8cf625-d0e5-4ac3-9a63-98988d333095"
   },
   "source": [
    "! cp -r /content/drive/My\\ Drive/Office31.zip /content/Domain_Adaptation/data/Office31.zip\n",
    "! unzip -o /content/Domain_Adaptation/data/Office31.zip -d //content/Domain_Adaptation/data/\n",
    "! cp -r /content/drive/My\\ Drive/Digits.zip /content/Domain_Adaptation/data/Digits.zip\n",
    "! unzip -o /content/Domain_Adaptation/data/Digits.zip -d //content/Domain_Adaptation/data/"
   ],
   "execution_count": 14,
   "outputs": [
    {
     "output_type": "stream",
     "text": [
      "cp: -r not specified; omitting directory '/content/drive/My Drive/data/Digits'\n",
      "cp: -r not specified; omitting directory '/content/drive/My Drive/data/Office31'\n",
      "cp: -r not specified; omitting directory '/content/drive/My Drive/data/OfficeHome'\n"
     ],
     "name": "stdout"
    }
   ]
  },
  {
   "cell_type": "code",
   "metadata": {
    "id": "noyUslLG2Afy",
    "colab_type": "code",
    "colab": {}
   },
   "source": [
    "!pip3 install tensorboardX"
   ],
   "execution_count": 0,
   "outputs": []
  },
  {
   "cell_type": "code",
   "metadata": {
    "id": "j9A7d9TR2dwB",
    "colab_type": "code",
    "colab": {
     "base_uri": "https://localhost:8080/",
     "height": 68
    },
    "outputId": "e6e1a090-2e2f-4817-f3fc-a8b93e79a5b0"
   },
   "source": [
    "!python3 main.py --model='MY' --dataset='Office31' --source='Amazon' --target='Webcam' \\\n",
    "--cuda='cuda:0' --num_workers=0  --iterations=10004 --test_interval=100 --batch_size=28 --loss_weight=1.0"
   ],
   "execution_count": 11,
   "outputs": [
    {
     "output_type": "stream",
     "text": [
      "data\t      google.ipynb  models_checkpoints\tREADME.md\n",
      "data_helpers  logs\t    networks\t\trequirements.txt\n",
      "experiments   main.py\t    pictures\t\tsolvers\n"
     ],
     "name": "stdout"
    }
   ]
  },
  {
   "cell_type": "code",
   "execution_count": null,
   "outputs": [],
   "source": [
    "! rsync -avz /content/Domain_Adaptation/tensorboardX /content/drive/My\\ Drive/tensorboardX\n"
   ],
   "metadata": {
    "collapsed": false,
    "pycharm": {
     "name": "#%%\n"
    }
   }
  }
 ]
}